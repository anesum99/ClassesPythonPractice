{
 "cells": [
  {
   "cell_type": "code",
   "execution_count": 22,
   "metadata": {},
   "outputs": [
    {
     "name": "stdout",
     "output_type": "stream",
     "text": [
      "[0, 24, 23, 16, 23, 12, 15, 9, 9, 9, 11, 11, 4, 8, 4, 3, -7]\n",
      "[0, 24, 23, 16, 23, 12, 15, 9, 9, 9, 11, 11, 4, 8, 4, 3, -7, -7]\n",
      "[0, 24, 23, 16, 23, 12, 15, 9, 9, 9, 11, 11, 4, 8, 4, 3, -7, -7, -10]\n",
      "[0, 24, 23, 16, 23, 12, 15, 9, 9, 9, 11, 11, 4, 8, 4, 3, -7, -7, -10, -9]\n",
      "[0, 24, 23, 16, 23, 12, 15, 9, 9, 9, 11, 11, 4, 8, 4, 3, -7, -7, -10, -9, 5]\n",
      "[0, 24, 23, 16, 23, 12, 15, 9, 9, 9, 12, 11, 4, 8, 4, 3, -7, -7, -10, -9, 5, 11]\n",
      "[0, 24, 23, 16, 23, 12, 15, 9, 9, 9, 12, 11, 4, 8, 4, 3, -7, -7, -10, -9, 5, 11, -7]\n",
      "[0, 24, 23, 16, 23, 12, 15, 9, 9, 9, 12, 11, 4, 8, 4, 3, -7, -7, -10, -9, 5, 11, -7, 7]\n",
      "[0, 24, 23, 16, 23, 12, 15, 9, 9, 9, 12, 11, 4, 8, 4, 3, -7, -7, -10, -9, 5, 11, -7, 7, -9]\n",
      "[0, 24, 23, 24, 23, 12, 16, 9, 9, 9, 12, 11, 15, 8, 4, 3, -7, -7, -10, -9, 5, 11, -7, 7, -9, 4]\n",
      "[0, 24, 23, 24, 23, 12, 16, 9, 9, 9, 12, 11, 15, 8, 4, 3, -7, -7, -10, -9, 5, 11, -7, 7, -9, 4, 6]\n",
      "[0, 24, 23, 24, 23, 12, 16, 9, 9, 9, 12, 11, 15, 13, 4, 3, -7, -7, -10, -9, 5, 11, -7, 7, -9, 4, 6, 8]\n",
      "[0, 25, 23, 24, 23, 12, 16, 24, 9, 9, 12, 11, 15, 13, 9, 3, -7, -7, -10, -9, 5, 11, -7, 7, -9, 4, 6, 8, 4]\n",
      "[0, 25, 23, 24, 23, 12, 16, 24, 9, 9, 12, 11, 15, 13, 9, 3, -7, -7, -10, -9, 5, 11, -7, 7, -9, 4, 6, 8, 4, 4]\n",
      "[0, 25, 23, 25, 23, 12, 16, 24, 9, 9, 12, 11, 15, 13, 9, 24, -7, -7, -10, -9, 5, 11, -7, 7, -9, 4, 6, 8, 4, 4, 3]\n",
      "[0, 25, 23, 25, 23, 12, 16, 24, 9, 9, 12, 11, 15, 13, 9, 24, -7, -7, -10, -9, 5, 11, -7, 7, -9, 4, 6, 8, 4, 4, 3, -6]\n",
      "[0, 25, 23, 25, 23, 12, 16, 24, 9, 9, 12, 11, 15, 13, 9, 24, -5, -7, -10, -9, 5, 11, -7, 7, -9, 4, 6, 8, 4, 4, 3, -6, -7]\n",
      "[0, 25, 23, 25, 23, 12, 16, 24, 9, 9, 12, 11, 15, 13, 9, 24, -5, -7, -10, -9, 5, 11, -7, 7, -9, 4, 6, 8, 4, 4, 3, -6, -7, -6]\n",
      "[0, 25, 24, 25, 23, 12, 16, 24, 23, 9, 12, 11, 15, 13, 9, 24, -5, 9, -10, -9, 5, 11, -7, 7, -9, 4, 6, 8, 4, 4, 3, -6, -7, -6, -7]\n",
      "[0, 25, 24, 25, 23, 12, 16, 24, 23, 9, 12, 11, 15, 13, 9, 24, -5, 19, -10, -9, 5, 11, -7, 7, -9, 4, 6, 8, 4, 4, 3, -6, -7, -6, -7, 9]\n"
     ]
    }
   ],
   "source": [
    "class Max_Heap():\n",
    "    def __init__(self, items=[]):\n",
    "        super().__init__()\n",
    "        self.max_heap=[0]\n",
    "        for item in items:\n",
    "            self.max_heap.append(item)\n",
    "            self.__bubbleUp(len(self.max_heap)-1)\n",
    "    def __swap(self,i,j):\n",
    "        self.max_heap[i], self.max_heap[j] = self.max_heap[j], self.max_heap[i]\n",
    "    def __bubbleUp(self, index):\n",
    "        parent = index//2\n",
    "        if index<=1:\n",
    "            return \n",
    "        elif self.max_heap[index]>self.max_heap[parent]:\n",
    "            self.__swap(index, parent)\n",
    "            self.__bubbleUp(parent)\n",
    "    def __bubbleDown(self, index):\n",
    "        left = index*2\n",
    "        right = index*2+1\n",
    "        maxx = index\n",
    "        if len(self.max_heap)>left and self.max_heap[maxx]<self.max_heap[left]:\n",
    "            maxx = left\n",
    "        if len(self.max_heap)>right and self.max_heap[maxx]<self.max_heap[right]:\n",
    "            maxx = right\n",
    "        if maxx!=index:\n",
    "            self.__swap(index, maxx)\n",
    "            self.__bubbleDown(maxx)\n",
    "    def push(self,item): # add to end of heap, bubble up to correct position\n",
    "        self.max_heap.append(item)\n",
    "        self.__bubbleUp(len(self.max_heap)-1)\n",
    "    def pop(self):\n",
    "        if len(self.max_heap)>2:\n",
    "            self.__swap(1, len(self.max_heap)-1) \n",
    "            val = self.max_heap.pop()\n",
    "            self.__bubbleDown(1)\n",
    "        if len(self.max_heap)==2:\n",
    "            val = self.max_heap.pop()\n",
    "        else:\n",
    "            val = \"empty heap\"\n",
    "        return val\n",
    "    def peek(self):\n",
    "        if self.max_heap[1]:\n",
    "            return self.max_heap[1]\n",
    "        else:\n",
    "            print(\"can't peek empty heap\")\n",
    "    def isempty(self):\n",
    "        return (len(self.max_heap)==1)\n",
    "    def __str__(self):\n",
    "        return str(self.max_heap)\n",
    "    \n",
    "import random\n",
    "hp = Max_Heap([24, 23, 16, 23, 12, 15, 9, 9, 9, 11, 11, 4, 8, 4, 3])\n",
    "import random\n",
    "def twenty_randomHeap():\n",
    "    for i in range(20):\n",
    "        n = random.randint(-10,25)\n",
    "        hp.push(n)\n",
    "        print(hp)\n",
    "   # while not hp.isempty():\n",
    "    #    print(hp)\n",
    "    #    hp.pop()\n",
    "\n",
    "def main():\n",
    "     twenty_randomHeap()\n",
    "if __name__ == \"__main__\":\n",
    "    main()"
   ]
  },
  {
   "cell_type": "code",
   "execution_count": 23,
   "metadata": {},
   "outputs": [
    {
     "name": "stdout",
     "output_type": "stream",
     "text": [
      "[0, 25, 24, 25, 23, 12, 16, 24, 23, 9, 12, 11, 15, 13, 9, 24, -5, 19, -10, -9, 5, 11, -7, 7, -9, 4, 6, 8, 4, 4, 3, -6, -7, -6, -7, 9]\n"
     ]
    }
   ],
   "source": [
    "print(hp)"
   ]
  },
  {
   "cell_type": "code",
   "execution_count": null,
   "metadata": {},
   "outputs": [],
   "source": []
  }
 ],
 "metadata": {
  "kernelspec": {
   "display_name": "Python 3",
   "language": "python",
   "name": "python3"
  },
  "language_info": {
   "codemirror_mode": {
    "name": "ipython",
    "version": 3
   },
   "file_extension": ".py",
   "mimetype": "text/x-python",
   "name": "python",
   "nbconvert_exporter": "python",
   "pygments_lexer": "ipython3",
   "version": "3.8.1"
  }
 },
 "nbformat": 4,
 "nbformat_minor": 4
}
