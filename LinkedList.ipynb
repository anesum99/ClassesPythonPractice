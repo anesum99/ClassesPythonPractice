{
 "cells": [
  {
   "cell_type": "code",
   "execution_count": 6,
   "metadata": {},
   "outputs": [
    {
     "name": "stdout",
     "output_type": "stream",
     "text": [
      "(20)->None\n",
      "size = 1\n",
      "(18)->(20)->None\n",
      "size = 2\n",
      "(16)->(18)->(20)->None\n",
      "size = 3\n",
      "(14)->(16)->(18)->(20)->None\n",
      "size = 4\n",
      "(12)->(14)->(16)->(18)->(20)->None\n",
      "size = 5\n",
      "(10)->(12)->(14)->(16)->(18)->(20)->None\n",
      "size = 6\n",
      "(8)->(10)->(12)->(14)->(16)->(18)->(20)->None\n",
      "size = 7\n",
      "(6)->(8)->(10)->(12)->(14)->(16)->(18)->(20)->None\n",
      "size = 8\n",
      "(4)->(6)->(8)->(10)->(12)->(14)->(16)->(18)->(20)->None\n",
      "size = 9\n",
      "(2)->(4)->(6)->(8)->(10)->(12)->(14)->(16)->(18)->(20)->None\n",
      "size = 10\n"
     ]
    }
   ],
   "source": [
    "class Node():\n",
    "    def __init__(self, d, n=None, p=None):\n",
    "        self.data= d\n",
    "        self.next_node = n\n",
    "        self.prev_node = p\n",
    "    def __str__(self):\n",
    "        return ('('+str(self.data)+')')\n",
    "        \n",
    "class LinkedList():\n",
    "    def __init__(self, r=None):\n",
    "        self.root = r\n",
    "        self.size = 0\n",
    "    def add(self, d):\n",
    "        new_node = Node(d, self.root)\n",
    "        self.root = new_node\n",
    "        self.size +=1\n",
    "    def find(self, d):\n",
    "        this_node = self.root\n",
    "        while this_node is not None:\n",
    "            if this_node.data == d:\n",
    "                return d\n",
    "            else:\n",
    "                this_node = this_node.next_node\n",
    "        return None\n",
    "    def remove(self, d):\n",
    "        this_node = self.root\n",
    "        prev_node = None\n",
    "        while this_node is not None:\n",
    "            if this_node.data == d: #data found\n",
    "                if prev_node is not None: #data not on root\n",
    "                    prev_node.next_node = this_node.next_node #unlink data\n",
    "                else: #data on root\n",
    "                    self.root = this_node.next_node #unlink data\n",
    "                self.size-=1\n",
    "                return True\n",
    "            else:\n",
    "                prev_node = this_node\n",
    "                this_node = this_node.next_node\n",
    "        return False\n",
    "    def print_list(self):\n",
    "        this_node = self.root\n",
    "        while this_node is not None:\n",
    "            print(this_node, end = '->')\n",
    "            this_node = this_node.next_node\n",
    "        print('None')\n",
    "mylst = LinkedList()\n",
    "for i in range (10):\n",
    "    mylst.add(2*(10-i))\n",
    "    mylst.print_list()\n",
    "    print(\"size = \" + str( mylst.size))\n",
    "\n",
    "    \n",
    "    \n"
   ]
  },
  {
   "cell_type": "code",
   "execution_count": 7,
   "metadata": {},
   "outputs": [
    {
     "name": "stdout",
     "output_type": "stream",
     "text": [
      "(2)->(4)->(6)->(8)->(10)->(12)->(14)->(16)->(18)->(20)->None\n",
      "size = 10\n",
      "(2)->(4)->(6)->(8)->(10)->(12)->(14)->(16)->(18)->(20)->None\n",
      "size = 9\n",
      "(4)->(6)->(8)->(10)->(12)->(14)->(16)->(18)->(20)->None\n",
      "size = 8\n",
      "(6)->(8)->(10)->(12)->(14)->(16)->(18)->(20)->None\n",
      "size = 7\n",
      "(8)->(10)->(12)->(14)->(16)->(18)->(20)->None\n",
      "size = 6\n",
      "(10)->(12)->(14)->(16)->(18)->(20)->None\n",
      "size = 5\n",
      "(12)->(14)->(16)->(18)->(20)->None\n",
      "size = 4\n",
      "(14)->(16)->(18)->(20)->None\n",
      "size = 3\n",
      "(16)->(18)->(20)->None\n",
      "size = 2\n",
      "(18)->(20)->None\n",
      "size = 1\n"
     ]
    }
   ],
   "source": [
    "for i in range(10):\n",
    "    mylst.find(2*i)\n",
    "    mylst.print_list()\n",
    "    mylst.remove(2*i)\n",
    "    print(\"size = \" + str( mylst.size))"
   ]
  },
  {
   "cell_type": "code",
   "execution_count": null,
   "metadata": {},
   "outputs": [],
   "source": []
  }
 ],
 "metadata": {
  "kernelspec": {
   "display_name": "Python 3",
   "language": "python",
   "name": "python3"
  },
  "language_info": {
   "codemirror_mode": {
    "name": "ipython",
    "version": 3
   },
   "file_extension": ".py",
   "mimetype": "text/x-python",
   "name": "python",
   "nbconvert_exporter": "python",
   "pygments_lexer": "ipython3",
   "version": "3.8.1"
  }
 },
 "nbformat": 4,
 "nbformat_minor": 4
}
