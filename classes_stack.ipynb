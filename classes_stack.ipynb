{
 "cells": [
  {
   "cell_type": "code",
   "execution_count": 27,
   "metadata": {},
   "outputs": [],
   "source": [
    "class Stack():\n",
    "    def __init__ (self):\n",
    "        self.stack=list()\n",
    "    def push(self,item):\n",
    "        self.stack.append(item)\n",
    "    def pop(self):\n",
    "        if len(self.stack)>0:\n",
    "            return self.stack.pop()\n",
    "        else:\n",
    "            print(\"can't pop from empty stack\")\n",
    "            return None\n",
    "    def peek(self):\n",
    "        if len(self.stack)>0:\n",
    "            return self.stack[len(self.stack)-1]\n",
    "        else:\n",
    "            print(\"can't peek from empty stack\")\n",
    "            return None\n",
    "    def __str__ (self):\n",
    "        return str(self.stack)\n",
    "    def size(self):\n",
    "        return len(self.stack)"
   ]
  },
  {
   "cell_type": "code",
   "execution_count": 28,
   "metadata": {},
   "outputs": [
    {
     "name": "stdout",
     "output_type": "stream",
     "text": [
      "[0]\n",
      "[0, 1]\n",
      "[0, 1, 2]\n",
      "[0, 1, 2, 3]\n",
      "[0, 1, 2, 3, 4]\n"
     ]
    }
   ],
   "source": [
    "new_stack = Stack()\n",
    "for i in range(5):\n",
    "    new_stack.push(i)\n",
    "    print(new_stack)\n"
   ]
  },
  {
   "cell_type": "code",
   "execution_count": 29,
   "metadata": {},
   "outputs": [
    {
     "name": "stdout",
     "output_type": "stream",
     "text": [
      "updated stack is [0, 1, 2, 3, 4] popped value is 4 next value is 3\n",
      "updated stack is [0, 1, 2, 3] popped value is 3 next value is 2\n",
      "updated stack is [0, 1, 2] popped value is 2 next value is 1\n",
      "updated stack is [0, 1] popped value is 1 next value is 0\n",
      "can't peek from empty stack\n",
      "updated stack is [0] popped value is 0 next value is None\n"
     ]
    }
   ],
   "source": [
    "for i in range(new_stack.size()):\n",
    "    print(\"updated stack is \" + str(new_stack), \"popped value is \" + str(new_stack.pop()), \"next value is \" + str(new_stack.peek()) )\n"
   ]
  },
  {
   "cell_type": "code",
   "execution_count": null,
   "metadata": {},
   "outputs": [],
   "source": []
  },
  {
   "cell_type": "code",
   "execution_count": null,
   "metadata": {},
   "outputs": [],
   "source": []
  }
 ],
 "metadata": {
  "kernelspec": {
   "display_name": "Python 3",
   "language": "python",
   "name": "python3"
  },
  "language_info": {
   "codemirror_mode": {
    "name": "ipython",
    "version": 3
   },
   "file_extension": ".py",
   "mimetype": "text/x-python",
   "name": "python",
   "nbconvert_exporter": "python",
   "pygments_lexer": "ipython3",
   "version": "3.8.1"
  }
 },
 "nbformat": 4,
 "nbformat_minor": 4
}
